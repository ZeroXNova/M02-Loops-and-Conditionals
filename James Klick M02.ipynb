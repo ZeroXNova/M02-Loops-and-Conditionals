{
 "cells": [
  {
   "cell_type": "code",
   "execution_count": 13,
   "id": "373a967e-dbf7-4f52-baba-446671f576e2",
   "metadata": {},
   "outputs": [
    {
     "name": "stdout",
     "output_type": "stream",
     "text": [
      "too low\n"
     ]
    }
   ],
   "source": [
    "#4.1\n",
    "secret = 8\n",
    "guess = 6\n",
    "if guess == secret:\n",
    "    print(\"just right\")\n",
    "elif guess < secret:\n",
    "    print(\"too low\")\n",
    "else:\n",
    "    print(\"too high\")\n"
   ]
  },
  {
   "cell_type": "code",
   "execution_count": 29,
   "id": "8b154794-311b-4fef-a7b3-866282d53ae7",
   "metadata": {},
   "outputs": [
    {
     "name": "stdout",
     "output_type": "stream",
     "text": [
      "watermelon\n"
     ]
    }
   ],
   "source": [
    "#4.2\n",
    "small = False\n",
    "green = True\n",
    "if small == True and green == False:\n",
    "    print(\"cherry\")\n",
    "elif small == True and green == True:\n",
    "    print(\"pea\")\n",
    "elif small == False and green == True:\n",
    "    print(\"watermelon\")\n",
    "elif small == False and green == False:\n",
    "    print(\"pumpkin\")"
   ]
  },
  {
   "cell_type": "code",
   "execution_count": 41,
   "id": "bca24b63-d159-4b96-a849-d1953c06c159",
   "metadata": {},
   "outputs": [
    {
     "name": "stdout",
     "output_type": "stream",
     "text": [
      "3\n",
      "2\n",
      "1\n",
      "0\n"
     ]
    }
   ],
   "source": [
    "#6.1\n",
    "list = [3,2,1,0]\n",
    "for x in list:\n",
    "    print(x)\n"
   ]
  },
  {
   "cell_type": "code",
   "execution_count": 45,
   "id": "fd4d54f1-7a98-4ad2-b773-9f908a8b57ba",
   "metadata": {},
   "outputs": [
    {
     "name": "stdout",
     "output_type": "stream",
     "text": [
      "too low\n",
      "too low\n",
      "too low\n",
      "too low\n",
      "too low\n",
      "too low\n",
      "found it!\n"
     ]
    }
   ],
   "source": [
    "#6.2\n",
    "guess_me = 7\n",
    "number = 1\n",
    "\n",
    "while number <= guess_me:\n",
    "    if number < guess_me:\n",
    "        print(\"too low\")\n",
    "    elif number == guess_me:\n",
    "        print(\"found it!\")\n",
    "        break\n",
    "    elif number > guess_me:\n",
    "        print(\"oops\")\n",
    "        break\n",
    "    number += 1\n"
   ]
  },
  {
   "cell_type": "code",
   "execution_count": 61,
   "id": "ad555f4f-1685-4fce-82d7-418d9cae11c9",
   "metadata": {},
   "outputs": [
    {
     "name": "stdout",
     "output_type": "stream",
     "text": [
      "too low\n",
      "too low\n",
      "too low\n",
      "too low\n",
      "too low\n",
      "found it!\n"
     ]
    }
   ],
   "source": [
    "#6.3\n",
    "guess_me = 5\n",
    "for x in range(10):\n",
    "    if x < guess_me:\n",
    "        print(\"too low\")\n",
    "    elif x == guess_me:\n",
    "        print(\"found it!\")\n",
    "        break\n",
    "    elif x > guess_me:\n",
    "        print(\"oops\")\n",
    "        break"
   ]
  },
  {
   "cell_type": "code",
   "execution_count": null,
   "id": "15934b88-29d0-4fc0-8122-05d54f5c9324",
   "metadata": {},
   "outputs": [],
   "source": []
  }
 ],
 "metadata": {
  "kernelspec": {
   "display_name": "Python 3 (ipykernel)",
   "language": "python",
   "name": "python3"
  },
  "language_info": {
   "codemirror_mode": {
    "name": "ipython",
    "version": 3
   },
   "file_extension": ".py",
   "mimetype": "text/x-python",
   "name": "python",
   "nbconvert_exporter": "python",
   "pygments_lexer": "ipython3",
   "version": "3.12.4"
  }
 },
 "nbformat": 4,
 "nbformat_minor": 5
}
